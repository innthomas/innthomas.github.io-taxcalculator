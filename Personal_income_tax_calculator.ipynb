{
  "nbformat": 4,
  "nbformat_minor": 0,
  "metadata": {
    "colab": {
      "name": "Personal_income_tax_calculator.ipynb",
      "version": "0.3.2",
      "provenance": [],
      "collapsed_sections": [],
      "include_colab_link": true
    },
    "kernelspec": {
      "name": "python3",
      "display_name": "Python 3"
    }
  },
  "cells": [
    {
      "cell_type": "markdown",
      "metadata": {
        "id": "view-in-github",
        "colab_type": "text"
      },
      "source": [
        "<a href=\"https://colab.research.google.com/github/innthomas/your-personal-income-tax-calculator-/blob/master/Personal_income_tax_calculator.ipynb\" target=\"_parent\"><img src=\"https://colab.research.google.com/assets/colab-badge.svg\" alt=\"Open In Colab\"/></a>"
      ]
    },
    {
      "cell_type": "code",
      "metadata": {
        "id": "_7YDzf3IGi8r",
        "colab_type": "code",
        "outputId": "cc43226f-7668-45a9-958e-c0daef751c6d",
        "colab": {
          "base_uri": "https://localhost:8080/",
          "height": 141
        }
      },
      "source": [
        "\n",
        "print(\"PERSONAL INCOME TAX CALCULATOR \")\n",
        "name = input(\"Enter your full name:  \")\n",
        "tin = input(\"Enter your tax identification number: \")\n",
        "gi = float(input(\"Enter your Gross Income: \"))\n",
        "gi_1 = gi*.01\n",
        "gi_20 = gi*.2\n",
        "children = int(input(\"number of children: \" ))\n",
        "children2 = children * 2500\n",
        "relatives = int(input(\"number of dependent relatives: \" ))\n",
        "relatives2 = relatives*2000\n",
        "pension = .075*gi\n",
        "                \n",
        "\n",
        "def first300():\n",
        "    return 300000*.07\n",
        "                \n",
        "def second300():\n",
        "    return 300000*.11\n",
        "                \n",
        "def first500():\n",
        "    return 500000*.15\n",
        "                \n",
        "def second500():\n",
        "    return 500000*.19\n",
        "                \n",
        "if (gi_1> 200000):\n",
        "    taxincome = gi_1 + gi_20 + children2 + relatives2 + pension\n",
        "                \n",
        "else:\n",
        "    taxincome = 200000 + gi_20 + children2 + relatives2 + pension\n",
        "                \n",
        "if (taxincome <= 300000):\n",
        "    pit = taxincome * .07\n",
        "elif (taxincome <= 600000):\n",
        "    pit = first300() + (taxincome *.11)\n",
        "elif (taxincome <= 1100000):\n",
        "    pit = second300() + first300() + (taxincome * .15)\n",
        "elif (taxincome <= 1600000):\n",
        "    pit = first500() + second300() + first300() +(taxincome * .19)\n",
        "else:\n",
        "    pit = second500() + first500() + second300() + first300() + (taxincome * .21)\n",
        "             \n",
        "\n",
        "print(\"Income tax liability for \", name, \" with tin:\",tin,\" is  N\",pit)       \n"
      ],
      "execution_count": 0,
      "outputs": [
        {
          "output_type": "stream",
          "text": [
            "PERSONAL INCOME TAX CALCULATOR \n",
            "Enter your full name:  Innocent Thomas \n",
            "Enter your tax identification number: 2345\n",
            "Enter your Gross Income: 4500000\n",
            "number of children: 4\n",
            "number of dependent relatives: 2\n",
            "Income tax liability for  Innocent Thomas   with tin: 2345  is  N 404785.0\n"
          ],
          "name": "stdout"
        }
      ]
    }
  ]
}